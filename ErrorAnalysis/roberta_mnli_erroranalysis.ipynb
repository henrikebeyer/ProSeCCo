{
 "cells": [
  {
   "cell_type": "code",
   "execution_count": 22,
   "metadata": {},
   "outputs": [],
   "source": [
    "import pandas as pd"
   ]
  },
  {
   "cell_type": "code",
   "execution_count": 23,
   "metadata": {},
   "outputs": [],
   "source": [
    "roberta_locution_preds = pd.read_csv(\"roberta-large-mnli-results/roberta-large-mnli_locution-predictions_1.tsv\", sep=\"\\t\")\n",
    "roberta_proposition_preds = pd.read_csv(\"roberta-large-mnli-results/roberta-large-mnli_proposition-predictions_1.tsv\", sep=\"\\t\")"
   ]
  },
  {
   "cell_type": "code",
   "execution_count": 24,
   "metadata": {},
   "outputs": [],
   "source": [
    "roberta_locution_preds[\"roberta_mnli_locution_pred\"] = [1 if label == 1 else 0 for label in roberta_locution_preds[\"roberta_mnli_locution_pred\"]]\n",
    "roberta_proposition_preds[\"roberta_mnli_proposition_pred\"] = [1 if label == 1 else 0 for label in roberta_proposition_preds[\"roberta_mnli_proposition_pred\"]]\n",
    "\n",
    "roberta_locution_preds[\"label\"] = [1 if label == \"contradiction\" else 0 for label in roberta_locution_preds[\"label\"]]\n",
    "roberta_proposition_preds[\"label\"] = [1 if label == \"contradiction\" else 0 for label in roberta_proposition_preds[\"label\"]]"
   ]
  },
  {
   "cell_type": "code",
   "execution_count": 25,
   "metadata": {},
   "outputs": [],
   "source": [
    "loc_status = []\n",
    "\n",
    "for gold, pred in zip(roberta_locution_preds[\"label\"], roberta_locution_preds[\"roberta_mnli_locution_pred\"]):\n",
    "    if gold == 1 and pred == 1:\n",
    "        loc_status.append(\"TP\")\n",
    "    elif gold == 0 and pred == 0:\n",
    "        loc_status.append(\"TN\")\n",
    "    elif gold == 1 and pred == 0:\n",
    "        loc_status.append(\"FN\")\n",
    "    elif gold == 0 and pred == 1:\n",
    "        loc_status.append(\"FP\")\n",
    "\n",
    "roberta_locution_preds[\"eval_status\"] = loc_status"
   ]
  },
  {
   "cell_type": "code",
   "execution_count": 26,
   "metadata": {},
   "outputs": [],
   "source": [
    "roberta_locution_preds_FP = roberta_locution_preds[roberta_locution_preds[\"eval_status\"] == \"FP\"]\n",
    "roberta_locution_preds_FN = roberta_locution_preds[roberta_locution_preds[\"eval_status\"] == \"FN\"]"
   ]
  },
  {
   "cell_type": "code",
   "execution_count": 29,
   "metadata": {},
   "outputs": [],
   "source": [
    "roberta_locution_preds_FN.to_csv(\"roberta_locution_FNs.tsv\", sep=\"\\t\", index=False)\n",
    "roberta_locution_preds_FP.to_csv(\"roberta_locution_FP.tsv\", sep=\"\\t\", index=False)"
   ]
  },
  {
   "cell_type": "code",
   "execution_count": 31,
   "metadata": {},
   "outputs": [],
   "source": [
    "prop_status = []\n",
    "\n",
    "for gold, pred in zip(roberta_proposition_preds[\"label\"], roberta_proposition_preds[\"roberta_mnli_proposition_pred\"]):\n",
    "    if gold == 1 and pred == 1:\n",
    "        prop_status.append(\"TP\")\n",
    "    elif gold == 0 and pred == 0:\n",
    "        prop_status.append(\"TN\")\n",
    "    elif gold == 1 and pred == 0:\n",
    "        prop_status.append(\"FN\")\n",
    "    elif gold == 0 and pred == 1:\n",
    "        prop_status.append(\"FP\")\n",
    "\n",
    "roberta_proposition_preds[\"eval_status\"] = prop_status"
   ]
  },
  {
   "cell_type": "code",
   "execution_count": 32,
   "metadata": {},
   "outputs": [],
   "source": [
    "roberta_proposition_preds_FP = roberta_proposition_preds[roberta_proposition_preds[\"eval_status\"] == \"FP\"]\n",
    "roberta_proposition_preds_FN = roberta_proposition_preds[roberta_proposition_preds[\"eval_status\"] == \"FN\"]"
   ]
  },
  {
   "cell_type": "code",
   "execution_count": 33,
   "metadata": {},
   "outputs": [],
   "source": [
    "roberta_proposition_preds_FN.to_csv(\"roberta_proposition_FNs.tsv\", sep=\"\\t\", index=False)\n",
    "roberta_proposition_preds_FP.to_csv(\"roberta_proposition_FP.tsv\", sep=\"\\t\", index=False)"
   ]
  },
  {
   "cell_type": "code",
   "execution_count": 38,
   "metadata": {},
   "outputs": [],
   "source": [
    "def common_member(a, b):\n",
    "    a_set = set(a)\n",
    "    b_set = set(b)\n",
    " \n",
    "    if (a_set & b_set):\n",
    "        return a_set & b_set\n",
    "    else:\n",
    "        print(\"No common elements\") "
   ]
  },
  {
   "cell_type": "code",
   "execution_count": 41,
   "metadata": {},
   "outputs": [],
   "source": [
    "same_in_FN = common_member(roberta_locution_preds_FN[\"ID\"], roberta_proposition_preds_FN[\"ID\"])\n",
    "same_in_FP = common_member(roberta_locution_preds_FP[\"ID\"], roberta_proposition_preds_FP[\"ID\"])"
   ]
  },
  {
   "cell_type": "code",
   "execution_count": 42,
   "metadata": {},
   "outputs": [
    {
     "name": "stdout",
     "output_type": "stream",
     "text": [
      "215 {'QT30_530', 'US2016_045', 'QT50_320', 'US2016_046', 'QT50_537', 'QT30_382', 'US2016_056', 'QT30_494', 'QT50_132', 'US2016_043', 'QT50_611', 'QT30_566', 'QT30_496', 'QT30_062', 'QT50_687', 'QT50_125', 'QT50_493', 'QT50_282', 'QT30_314', 'QT30_521', 'QT50_248', 'QT30_217', 'QT30_485', 'US2016_044', 'QT50_556', 'QT50_645', 'QT30_043', 'QT50_193', 'QT50_216', 'QT30_477', 'QT50_246', 'QT50_427', 'QT50_641', 'QT30_453', 'QT50_566', 'QT50_206', 'QT50_148', 'QT30_147', 'QT30_110', 'QT30_487', 'QT50_047', 'QT50_009', 'QT50_028', 'QT50_462', 'QT30_045', 'QT50_385', 'QT50_259', 'QT50_564', 'QT30_241', 'QT50_516', 'QT30_489', 'QT30_303', 'QT50_509', 'US2016_059', 'QT50_413', 'QT50_450', 'QT30_164', 'QT50_316', 'QT50_426', 'QT30_253', 'QT30_198', 'QT50_079', 'QT50_029', 'QT30_220', 'QT30_416', 'US2016_062', 'US2016_025', 'QT30_216', 'QT30_192', 'QT30_214', 'QT30_335', 'QT50_020', 'QT30_015', 'QT50_587', 'QT30_295', 'QT50_597', 'US2016_030', 'QT50_134', 'QT30_462', 'US2016_009', 'QT30_194', 'QT30_075', 'QT50_653', 'QT50_126', 'QT30_546', 'QT50_153', 'QT50_649', 'QT50_235', 'QT30_034', 'QT30_284', 'QT50_353', 'QT30_534', 'QT30_472', 'QT50_257', 'QT50_531', 'QT30_187', 'US2016_005', 'QT30_115', 'US2016_052', 'QT50_093', 'QT50_011', 'QT50_661', 'US2016_053', 'QT30_556', 'QT30_126', 'US2016_055', 'QT30_222', 'QT30_538', 'QT50_276', 'QT50_266', 'QT50_368', 'QT50_037', 'QT50_598', 'QT50_613', 'QT30_359', 'QT30_197', 'QT30_278', 'QT50_059', 'QT50_421', 'QT30_186', 'QT30_340', 'QT30_282', 'QT30_123', 'QT30_027', 'QT50_681', 'QT50_511', 'QT30_322', 'QT30_302', 'QT50_423', 'QT50_183', 'QT50_612', 'QT50_643', 'QT50_307', 'QT30_150', 'QT30_311', 'QT30_424', 'QT30_091', 'QT30_383', 'QT30_463', 'QT30_053', 'QT30_231', 'QT30_090', 'QT30_488', 'QT30_420', 'QT50_008', 'QT50_116', 'QT50_128', 'QT50_281', 'QT30_422', 'QT30_226', 'QT30_283', 'QT50_292', 'QT50_388', 'QT30_048', 'QT50_321', 'QT50_123', 'QT50_636', 'QT30_176', 'QT50_256', 'QT50_302', 'QT30_369', 'US2016_002', 'QT30_248', 'QT50_228', 'QT50_428', 'QT50_319', 'QT30_207', 'QT50_629', 'QT30_134', 'QT30_559', 'QT50_491', 'QT50_348', 'QT50_296', 'QT50_626', 'QT50_238', 'QT30_205', 'QT50_168', 'QT50_663', 'QT50_642', 'QT30_561', 'QT50_349', 'QT50_682', 'US2016_054', 'QT50_086', 'QT30_018', 'QT50_146', 'QT30_105', 'QT50_342', 'QT50_637', 'QT50_124', 'QT50_214', 'QT50_514', 'QT50_290', 'US2016_038', 'QT50_553', 'QT30_020', 'QT30_055', 'QT50_301', 'QT50_152', 'QT30_540', 'QT50_415', 'QT30_056', 'QT30_402', 'QT50_503', 'QT50_513', 'QT50_559', 'QT30_367', 'QT30_392', 'QT50_410', 'QT50_119', 'QT50_191', 'QT50_229', 'QT30_238', 'QT50_345', 'QT50_627'}\n",
      "374 {'QT50_583', 'QT30_173', 'QT50_337', 'QT30_344', 'QT50_635', 'QT30_408', 'QT30_387', 'QT50_517', 'QT30_552', 'QT50_050', 'QT30_113', 'QT50_399', 'QT30_409', 'QT50_030', 'QT50_567', 'QT50_330', 'QT30_160', 'QT50_022', 'QT30_357', 'QT30_522', 'QT30_098', 'QT50_225', 'QT50_360', 'QT50_060', 'QT50_078', 'QT30_129', 'QT50_049', 'QT30_026', 'QT30_401', 'QT30_089', 'QT30_203', 'QT50_166', 'QT50_381', 'QT50_242', 'QT50_460', 'QT30_506', 'QT30_211', 'QT30_313', 'US2016_037', 'QT30_545', 'QT50_607', 'QT50_076', 'QT50_498', 'QT30_044', 'QT30_237', 'QT50_114', 'QT50_112', 'QT30_116', 'QT50_005', 'US2016_013', 'QT30_550', 'QT30_050', 'QT50_344', 'QT50_541', 'QT50_568', 'QT30_066', 'QT30_224', 'QT50_406', 'QT50_284', 'QT50_233', 'QT50_310', 'QT50_130', 'QT50_589', 'QT50_400', 'QT30_395', 'QT50_396', 'QT50_547', 'QT30_325', 'QT50_652', 'QT50_295', 'QT30_326', 'QT50_560', 'QT30_256', 'QT50_416', 'QT50_548', 'QT50_361', 'US2016_012', 'QT30_190', 'QT50_082', 'QT50_297', 'QT50_534', 'QT50_390', 'QT30_418', 'QT30_467', 'QT30_155', 'QT30_476', 'QT50_272', 'QT30_296', 'QT50_263', 'QT30_524', 'QT30_297', 'QT50_369', 'QT50_174', 'QT30_309', 'QT50_572', 'QT50_540', 'QT30_328', 'QT50_519', 'QT50_075', 'QT50_435', 'QT50_299', 'QT50_528', 'QT50_485', 'QT50_001', 'QT30_520', 'QT50_200', 'QT50_494', 'QT50_379', 'QT30_436', 'QT30_143', 'QT30_019', 'QT30_361', 'QT50_178', 'QT30_281', 'QT30_030', 'US2016_000', 'QT50_056', 'QT30_518', 'QT50_084', 'QT50_472', 'QT30_059', 'QT50_085', 'QT30_037', 'QT30_364', 'QT50_336', 'QT50_617', 'QT50_432', 'QT50_129', 'QT50_363', 'QT50_402', 'QT50_207', 'QT50_470', 'QT30_298', 'QT50_523', 'QT30_072', 'QT50_237', 'QT50_526', 'QT50_648', 'QT50_324', 'QT50_334', 'QT30_345', 'QT30_293', 'QT50_497', 'QT50_298', 'QT30_327', 'QT30_384', 'QT30_249', 'QT50_249', 'QT30_117', 'QT30_151', 'QT30_049', 'QT30_432', 'QT30_541', 'QT30_250', 'QT50_220', 'QT30_168', 'QT50_365', 'QT50_185', 'QT30_127', 'QT50_625', 'QT50_147', 'QT50_529', 'QT30_515', 'QT50_354', 'QT30_051', 'QT50_665', 'QT30_440', 'QT30_379', 'QT30_223', 'QT50_194', 'QT50_505', 'QT50_595', 'QT50_099', 'QT50_127', 'QT50_646', 'QT50_158', 'QT50_677', 'QT50_109', 'QT50_387', 'QT30_343', 'QT30_132', 'QT50_386', 'QT50_222', 'QT30_389', 'QT50_650', 'QT30_532', 'QT50_142', 'QT50_476', 'QT50_159', 'QT50_474', 'US2016_026', 'QT50_003', 'QT30_419', 'QT30_242', 'QT30_083', 'QT30_505', 'QT30_021', 'QT30_046', 'QT50_605', 'QT50_434', 'QT50_481', 'QT30_079', 'QT30_396', 'QT50_151', 'QT50_308', 'QT30_290', 'QT30_304', 'QT50_488', 'QT50_141', 'QT50_452', 'QT30_267', 'QT30_270', 'QT50_429', 'QT50_073', 'QT30_109', 'QT30_202', 'QT30_533', 'QT50_104', 'QT30_162', 'QT30_443', 'QT30_258', 'QT50_490', 'QT30_047', 'QT30_563', 'QT30_536', 'QT50_181', 'QT50_057', 'US2016_039', 'US2016_064', 'QT30_272', 'QT50_240', 'QT30_228', 'QT50_457', 'QT50_179', 'QT50_373', 'QT50_479', 'QT50_525', 'QT30_161', 'QT50_551', 'QT30_337', 'QT50_565', 'QT50_447', 'QT50_397', 'QT50_555', 'QT50_083', 'QT30_201', 'QT30_495', 'QT30_084', 'QT30_125', 'QT30_426', 'QT50_068', 'QT30_076', 'QT50_180', 'QT50_161', 'QT30_288', 'QT50_530', 'QT30_399', 'QT30_503', 'QT30_407', 'QT30_346', 'QT30_010', 'QT30_504', 'QT50_048', 'QT30_131', 'QT50_506', 'QT50_367', 'QT50_202', 'QT30_060', 'QT50_651', 'QT50_678', 'QT50_394', 'QT50_674', 'QT50_217', 'QT50_091', 'QT30_500', 'QT30_527', 'QT30_354', 'QT50_440', 'QT50_508', 'QT50_136', 'QT50_053', 'QT50_177', 'QT50_317', 'US2016_015', 'QT50_090', 'QT50_477', 'QT50_660', 'QT50_106', 'QT30_377', 'QT50_250', 'QT30_167', 'QT30_017', 'QT50_659', 'QT30_427', 'QT50_215', 'QT50_258', 'QT50_095', 'QT50_535', 'QT50_584', 'QT30_474', 'QT30_478', 'QT50_294', 'QT50_226', 'QT50_532', 'QT50_255', 'QT50_484', 'QT50_570', 'QT30_108', 'QT30_378', 'QT30_548', 'QT30_497', 'QT50_014', 'QT30_172', 'QT50_021', 'QT30_342', 'QT50_280', 'QT30_509', 'QT30_457', 'QT50_358', 'QT50_371', 'QT50_231', 'QT30_229', 'QT30_057', 'QT30_114', 'QT50_285', 'QT50_052', 'QT30_397', 'QT30_088', 'QT50_175', 'QT30_103', 'QT50_139', 'QT30_054', 'QT50_265', 'QT50_669', 'QT30_435', 'QT30_388', 'QT50_094', 'QT50_398', 'QT50_061', 'QT50_596', 'QT50_054', 'QT30_157', 'QT30_188', 'QT50_441', 'QT50_554', 'QT50_615', 'QT50_473', 'QT30_191', 'QT50_204', 'QT30_400', 'QT30_315', 'QT30_289', 'QT50_224', 'QT50_096', 'US2016_017', 'QT50_315', 'QT50_543', 'QT50_632', 'QT30_349', 'QT50_384', 'QT30_212', 'QT50_576', 'QT50_616', 'QT50_105', 'QT50_581', 'QT50_592', 'QT50_600', 'QT30_166', 'QT50_563', 'QT50_618', 'QT30_128', 'QT30_218', 'QT30_428', 'QT30_352'}\n"
     ]
    }
   ],
   "source": [
    "print(len(same_in_FN), same_in_FN)\n",
    "print(len(same_in_FP), same_in_FP)"
   ]
  },
  {
   "cell_type": "code",
   "execution_count": 45,
   "metadata": {},
   "outputs": [],
   "source": [
    "roberta_loc_FP_same = roberta_locution_preds_FP[roberta_locution_preds_FP[\"ID\"].isin(list(same_in_FP))]\n",
    "roberta_loc_FN_same = roberta_locution_preds_FN[roberta_locution_preds_FN[\"ID\"].isin(list(same_in_FN))]\n",
    "roberta_prop_FP_same = roberta_proposition_preds_FP[roberta_proposition_preds_FP[\"ID\"].isin(list(same_in_FP))]\n",
    "roberta_prop_FN_same = roberta_proposition_preds_FN[roberta_proposition_preds_FN[\"ID\"].isin(list(same_in_FN))]"
   ]
  },
  {
   "cell_type": "code",
   "execution_count": 48,
   "metadata": {},
   "outputs": [],
   "source": [
    "roberta_loc_FP_diff = roberta_locution_preds_FP[~roberta_locution_preds_FP[\"ID\"].isin(list(same_in_FP))]\n",
    "roberta_loc_FN_diff = roberta_locution_preds_FN[~roberta_locution_preds_FN[\"ID\"].isin(list(same_in_FN))]\n",
    "roberta_prop_FP_diff = roberta_proposition_preds_FP[~roberta_proposition_preds_FP[\"ID\"].isin(list(same_in_FP))]\n",
    "roberta_prop_FN_diff = roberta_proposition_preds_FN[~roberta_proposition_preds_FN[\"ID\"].isin(list(same_in_FN))]"
   ]
  },
  {
   "cell_type": "code",
   "execution_count": 49,
   "metadata": {},
   "outputs": [],
   "source": [
    "roberta_loc_FP_same.sample(frac=0.4, random_state=42).to_csv(\"roberta_locution_FP_same.tsv\", sep=\"\\t\", index=False)\n",
    "roberta_loc_FN_same.sample(frac=0.4, random_state=42).to_csv(\"roberta_locution_FN_same.tsv\", sep=\"\\t\", index=False)\n",
    "roberta_prop_FP_same.sample(frac=0.4, random_state=42).to_csv(\"roberta_proposition_FP_same.tsv\", sep=\"\\t\", index=False)\n",
    "roberta_prop_FN_same.sample(frac=0.4, random_state=42).to_csv(\"roberta_proposition_FN_same.tsv\", sep=\"\\t\", index=False)"
   ]
  },
  {
   "cell_type": "code",
   "execution_count": 50,
   "metadata": {},
   "outputs": [],
   "source": [
    "roberta_loc_FP_diff.sample(frac=0.4, random_state=42).to_csv(\"roberta_locution_FP_diff.tsv\", sep=\"\\t\", index=False)\n",
    "roberta_loc_FN_diff.sample(frac=0.4, random_state=42).to_csv(\"roberta_locution_FN_diff.tsv\", sep=\"\\t\", index=False)\n",
    "roberta_prop_FP_diff.sample(frac=0.4, random_state=42).to_csv(\"roberta_proposition_FP_diff.tsv\", sep=\"\\t\", index=False)\n",
    "roberta_prop_FN_diff.sample(frac=0.4, random_state=42).to_csv(\"roberta_proposition_FN_diff.tsv\", sep=\"\\t\", index=False)"
   ]
  }
 ],
 "metadata": {
  "kernelspec": {
   "display_name": "python3.8-mnlitest-kernel",
   "language": "python",
   "name": "python3.8-mnlitest-kernel"
  },
  "language_info": {
   "codemirror_mode": {
    "name": "ipython",
    "version": 3
   },
   "file_extension": ".py",
   "mimetype": "text/x-python",
   "name": "python",
   "nbconvert_exporter": "python",
   "pygments_lexer": "ipython3",
   "version": "3.8.0"
  }
 },
 "nbformat": 4,
 "nbformat_minor": 2
}
